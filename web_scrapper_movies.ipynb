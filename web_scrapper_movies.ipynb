{
  "nbformat": 4,
  "nbformat_minor": 0,
  "metadata": {
    "colab": {
      "name": "web_scrapper_movies.ipynb",
      "provenance": [],
      "collapsed_sections": []
    },
    "kernelspec": {
      "name": "python3",
      "display_name": "Python 3"
    },
    "language_info": {
      "name": "python"
    }
  },
  "cells": [
    {
      "cell_type": "code",
      "metadata": {
        "colab": {
          "base_uri": "https://localhost:8080/",
          "height": 581
        },
        "id": "8bX38685v1SC",
        "outputId": "84d1d5c2-94e7-43ae-f443-cec50ab9fd26"
      },
      "source": [
        "from bs4 import BeautifulSoup\n",
        "import requests\n",
        "import csv\n",
        "\n",
        "url = \"https://www.imdb.com/chart/toptv/?ref_=nv_tvv_250\"\n",
        "#url2 = \"https://www.imdb.com/title/tt5491994/reviews?ref_=tt_ov_rt\"\n",
        "page = requests.get(url)\n",
        "#page2 = requests.get(url2)\n",
        "\n",
        "soup = BeautifulSoup(page.text, 'html.parser')\n",
        "#soup2 = BeautifulSoup(page2.text, 'html.parser')\n",
        "\n",
        "raw_html = soup.find(\"tbody\",{\"class\":\"lister-list\"}).findAll(\"tr\")\n",
        "#raw_html2 = soup2.find(\"section\",{\"class\":\"article\"}).findAll(\"div\",{\"class\":\"lister-item-content\"})\n",
        "\n",
        "\n",
        "def main_fun():\n",
        "    movies_list = []\n",
        "    for html_t in raw_html:\n",
        "        title = html_t.find(\"td\", {\"class\":\"titleColumn\"}).find(\"a\").get_text()\n",
        "        rating = html_t.find(\"td\", {\"class\":\"ratingColumn imdbRating\"}).find(\"strong\").get_text()\n",
        "        rating = float(rating)\n",
        "    \n",
        "        if rating >= 9:\n",
        "            raw_list = [title,rating]\n",
        "            movies_list.append(raw_list)\n",
        "    \n",
        "    recommendation(movies_list)\n",
        "    create_csv(movies_list)\n",
        "\n",
        "\n",
        "#    for html_rev in raw_html2:\n",
        "#        review = html_rev.find(\"div\",{\"class\":\"content\"}).find({\"class\":\"text show-more__control clickable\"})\n",
        "#        print(review)\n",
        "        \n",
        "def recommendation(m_list):\n",
        "    for x in range(len(m_list)):\n",
        "        if m_list[x][1]>9:\n",
        "            print(m_list[x][0])\n",
        "\n",
        "\n",
        "\n",
        "\n",
        "def create_csv(movies):\n",
        "    with open('movies.csv','w') as csvfile:\n",
        "        writer = csv.writer(csvfile)\n",
        "        row = ['Name','Rating']\n",
        "        writer.writerow(row)\n",
        "        for x in range(len(movies)):\n",
        "            row = movies[x]\n",
        "            writer.writerow(row)\n",
        "    csvfile.close()\n",
        "    \n",
        "main_fun()\n",
        "\n",
        "import pandas as pd\n",
        "\n",
        "ds = pd.read_csv(\"movies.csv\",\"utf-8\")    \n",
        "ds.tail()\n",
        "\n",
        "\n"
      ],
      "execution_count": 26,
      "outputs": [
        {
          "output_type": "stream",
          "text": [
            "Planet Earth II\n",
            "Planet Earth\n",
            "Band of Brothers\n",
            "Breaking Bad\n",
            "Chernobyl\n",
            "Blue Planet II\n",
            "The Wire\n",
            "Our Planet\n",
            "Cosmos: A Spacetime Odyssey\n",
            "Cosmos\n",
            "Avatar: The Last Airbender\n",
            "Game of Thrones\n",
            "Rick and Morty\n",
            "The Sopranos\n",
            "The World at War\n",
            "The Last Dance\n",
            "Life\n",
            "Scam 1992: The Harshad Mehta Story\n",
            "Fullmetal Alchemist: Brotherhood\n",
            "The Vietnam War\n"
          ],
          "name": "stdout"
        },
        {
          "output_type": "stream",
          "text": [
            "/usr/local/lib/python3.7/dist-packages/ipykernel_launcher.py:58: ParserWarning: Falling back to the 'python' engine because the 'c' engine does not support regex separators (separators > 1 char and different from '\\s+' are interpreted as regex); you can avoid this warning by specifying engine='python'.\n"
          ],
          "name": "stderr"
        },
        {
          "output_type": "execute_result",
          "data": {
            "text/html": [
              "<div>\n",
              "<style scoped>\n",
              "    .dataframe tbody tr th:only-of-type {\n",
              "        vertical-align: middle;\n",
              "    }\n",
              "\n",
              "    .dataframe tbody tr th {\n",
              "        vertical-align: top;\n",
              "    }\n",
              "\n",
              "    .dataframe thead th {\n",
              "        text-align: right;\n",
              "    }\n",
              "</style>\n",
              "<table border=\"1\" class=\"dataframe\">\n",
              "  <thead>\n",
              "    <tr style=\"text-align: right;\">\n",
              "      <th></th>\n",
              "      <th>Name,Rating</th>\n",
              "    </tr>\n",
              "  </thead>\n",
              "  <tbody>\n",
              "    <tr>\n",
              "      <th>23</th>\n",
              "      <td>Human Planet,9.0</td>\n",
              "    </tr>\n",
              "    <tr>\n",
              "      <th>24</th>\n",
              "      <td>Persona,9.0</td>\n",
              "    </tr>\n",
              "    <tr>\n",
              "      <th>25</th>\n",
              "      <td>Batman: The Animated Series,9.0</td>\n",
              "    </tr>\n",
              "    <tr>\n",
              "      <th>26</th>\n",
              "      <td>The Beatles Anthology,9.0</td>\n",
              "    </tr>\n",
              "    <tr>\n",
              "      <th>27</th>\n",
              "      <td>Frozen Planet,9.0</td>\n",
              "    </tr>\n",
              "  </tbody>\n",
              "</table>\n",
              "</div>"
            ],
            "text/plain": [
              "                        Name,Rating\n",
              "23                 Human Planet,9.0\n",
              "24                      Persona,9.0\n",
              "25  Batman: The Animated Series,9.0\n",
              "26        The Beatles Anthology,9.0\n",
              "27                Frozen Planet,9.0"
            ]
          },
          "metadata": {
            "tags": []
          },
          "execution_count": 26
        }
      ]
    }
  ]
}